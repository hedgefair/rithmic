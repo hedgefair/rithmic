{
 "cells": [
  {
   "cell_type": "code",
   "execution_count": null,
   "metadata": {},
   "outputs": [],
   "source": [
    "import asyncio\n",
    "import pathlib\n",
    "import ssl\n",
    "import websockets"
   ]
  },
  {
   "cell_type": "code",
   "execution_count": null,
   "metadata": {},
   "outputs": [],
   "source": [
    "ssl_context = ssl.SSLContext(ssl.PROTOCOL_TLS_CLIENT)\n",
    "#ssl_context.load_verify_locations(\n",
    "    #pathlib.Path(__file__).with_name('localhost.pem'))"
   ]
  },
  {
   "cell_type": "code",
   "execution_count": null,
   "metadata": {},
   "outputs": [],
   "source": [
    "import request_rithmic_system_info_pb2\n",
    "m = request_rithmic_system_info_pb2.RequestRithmicSystemInfo()\n",
    "m.template_id=16\n",
    "m.user_msg.append(\"Hello\")\n",
    "zinga = m.SerializeToString()"
   ]
  },
  {
   "cell_type": "code",
   "execution_count": null,
   "metadata": {},
   "outputs": [],
   "source": [
    "import response_rithmic_system_info_pb2\n",
    "mm = response_rithmic_system_info_pb2.ResponseRithmicSystemInfo()\n"
   ]
  },
  {
   "cell_type": "code",
   "execution_count": null,
   "metadata": {},
   "outputs": [],
   "source": [
    "async def hello():\n",
    "    async with websockets.connect( 'wss://rituz00100.00.rithmic.com:443') as websocket:\n",
    "        await websocket.send(zinga)\n",
    "        sysinfo = await websocket.recv()\n",
    "        mm.ParseFromString(sysinfo)\n",
    "        sysnamegroup = mm.system_name\n",
    "        if len(sysnamegroup>0):\n",
    "            sysname = sysnamegroup[0]\n",
    "        else:\n",
    "            sysname = None\n",
    "        print(mm.template_id, sysname)\n",
    "\n",
    "#asyncio.get_event_loop().stop()\n",
    "        \n",
    "#asyncio.new_event_loop().run_until_complete(hello())    \n",
    "asyncio.new_event_loop().create_task(hello()) "
   ]
  },
  {
   "cell_type": "code",
   "execution_count": null,
   "metadata": {},
   "outputs": [],
   "source": []
  }
 ],
 "metadata": {
  "kernelspec": {
   "display_name": "Python 3",
   "language": "python",
   "name": "python3"
  },
  "language_info": {
   "codemirror_mode": {
    "name": "ipython",
    "version": 3
   },
   "file_extension": ".py",
   "mimetype": "text/x-python",
   "name": "python",
   "nbconvert_exporter": "python",
   "pygments_lexer": "ipython3",
   "version": "3.7.3"
  }
 },
 "nbformat": 4,
 "nbformat_minor": 2
}
